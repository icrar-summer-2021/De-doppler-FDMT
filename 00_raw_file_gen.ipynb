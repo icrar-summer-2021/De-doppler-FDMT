{
 "cells": [
  {
   "cell_type": "markdown",
   "metadata": {},
   "source": [
    "# Basic Raw File Generation\n",
    "This tutorial walks through generation of GUPPI RAW data with injected sine signals in Gaussian noise."
   ]
  },
  {
   "cell_type": "markdown",
   "metadata": {},
   "source": [
    "If you have access to a GPU, it is highly recommended to install CuPy, which performs the equivalent NumPy array operations on the GPU (https://docs.cupy.dev/en/stable/install.html). This is not necessary to run raw voltage generation, but will highly accelerate the pipeline. Once you have CuPy installed, to enable GPU acceleration you must set `SETIGEN_ENABLE_GPU` to '1' in the shell or in Python via `os.environ`. It can also be useful to set `CUDA_VISIBLE_DEVICES` to specify which GPUs to use."
   ]
  },
  {
   "cell_type": "code",
   "execution_count": 1,
   "metadata": {},
   "outputs": [],
   "source": [
    "# !pip install cupy-cuda110"
   ]
  },
  {
   "cell_type": "code",
   "execution_count": 2,
   "metadata": {},
   "outputs": [],
   "source": [
    "import os\n",
    "os.environ['SETIGEN_ENABLE_GPU'] = '1'\n",
    "#os.environ['CUDA_VISIBLE_DEVICES'] = '0'"
   ]
  },
  {
   "cell_type": "code",
   "execution_count": 7,
   "metadata": {},
   "outputs": [],
   "source": [
    "%matplotlib inline\n",
    "import matplotlib.pyplot as plt\n",
    "\n",
    "import numpy as np\n",
    "from astropy import units as u\n",
    "import blimpy as bl\n",
    "\n",
    "import setigen as stg"
   ]
  },
  {
   "cell_type": "code",
   "execution_count": 8,
   "metadata": {},
   "outputs": [],
   "source": [
    "# Sometimes it can be necessary to re-run this command for plots to show automatically\n",
    "%matplotlib inline"
   ]
  },
  {
   "cell_type": "markdown",
   "metadata": {},
   "source": [
    "We first set some basic parameters behind the pipeline. `sample_rate` is in samples per second (Hz); `num_taps` and `num_branches` are specific to the polyphase filterbank described below. "
   ]
  },
  {
   "cell_type": "code",
   "execution_count": 9,
   "metadata": {},
   "outputs": [],
   "source": [
    "sample_rate = 3e9\n",
    "num_taps = 8\n",
    "num_branches = 1024\n",
    "\n",
    "chan_bw = sample_rate / num_branches"
   ]
  },
  {
   "cell_type": "markdown",
   "metadata": {},
   "source": [
    "## Creating an Antenna\n",
    "\n",
    "To set up the pipeline, we first create an `Antenna` object, to which we add noise and signal \"sources\". These allow us to generate samples when we need them; this is important when creating large raw voltage files, which may not fit in GPU / CPU memory in one go.\n",
    "\n",
    "The `fch1` parameter indicates the starting reference frequency, and the `ascending` parameter is a boolean which marks whether the frequencies should increase or decrease from `fch1`. By default, we do not implement heterodyne mixing and filtering, so these parameters essentially specify the usable Nyquist band for the recorded synthetic observations, from `fch1` to `fch1 +/- sample_rate / 2`. Note that frequencies should be specified in Hz or using `astropy.units`."
   ]
  },
  {
   "cell_type": "code",
   "execution_count": 11,
   "metadata": {},
   "outputs": [],
   "source": [
    "antenna = stg.voltage.Antenna(sample_rate=sample_rate, \n",
    "                              fch1=6*u.GHz,\n",
    "                              ascending=True,\n",
    "                              num_pols=2)"
   ]
  },
  {
   "cell_type": "markdown",
   "metadata": {},
   "source": [
    "We can now add noise to each polarization:"
   ]
  },
  {
   "cell_type": "code",
   "execution_count": 12,
   "metadata": {},
   "outputs": [],
   "source": [
    "antenna.x.add_noise(v_mean=0, \n",
    "                    v_std=1)\n",
    "\n",
    "antenna.y.add_noise(v_mean=0, \n",
    "                    v_std=1)"
   ]
  },
  {
   "cell_type": "markdown",
   "metadata": {},
   "source": [
    "Adding a basic constant intensity, drifting signal to each polarization:"
   ]
  },
  {
   "cell_type": "code",
   "execution_count": null,
   "metadata": {},
   "outputs": [],
   "source": [
    "antenna.x.add_constant_signal(f_start=6002.2e6, \n",
    "                              drift_rate=-2*u.Hz/u.s, \n",
    "                              level=0.002)\n",
    "\n",
    "antenna.y.add_constant_signal(f_start=6002.2e6, \n",
    "                              drift_rate=-2*u.Hz/u.s, \n",
    "                              level=0.002,\n",
    "                              phase=np.pi/2)"
   ]
  },
  {
   "cell_type": "markdown",
   "metadata": {},
   "source": [
    "For dual polarization, the property `antenna.streams` maps to `[antenna.x, antenna.y]`. For single polarization, this is only `[antenna.x]`. This can help simplify code if one is adding identical noise or signal elements to each polarization."
   ]
  },
  {
   "cell_type": "markdown",
   "metadata": {},
   "source": [
    "## Making the backend elements\n",
    "We have to create various elements in the backend, specifically the digitizer, polyphase filterbank, and requantizer. These only have a few parameters, but can help if you'd like to customize the specific values.\n",
    "\n",
    "The `RealQuantizer` (digitizer) takes in floating point real \"voltages\" generated by the Antenna, and normalizes the FWHM of the real voltage distribution to the `target_fwhm` and quantizes them to `num_bits`. \n",
    "\n",
    "The `PolyphaseFilterbank` implements an ideal PFB with `num_taps` and `num_branches` as parameters. `num_branches` is the FFT length for the real FFT, so that there are a resultant `num_branches / 2` coarse channels possible to record. \n",
    "\n",
    "The `ComplexQuantizer` is very similar to the `RealQuantizer`, but handles the complex voltages that come out of the PFB step. Here, `num_bits` can be either 8 or 4; this is the final data manipulation done before saving out to file. \n",
    "\n",
    "Finally, the `RawVoltageBackend` is a class that pulls all these components together. The first argument is the `Antenna` object, from which we query the actual data. We can also specify which coarse channels we'd actually like to record, from `start_chan` to `start_chan + num_chans`. Parameters `block_size` (in bytes) and `blocks_per_file` customize the RAW files. Finally, `num_subblocks` is a factor by which each block is divided to make the pipeline manageable in GPU memory. The smaller this factor is, the more data is processed at once; if the factor is too small, the data arrays may exceed GPU memory. "
   ]
  },
  {
   "cell_type": "code",
   "execution_count": null,
   "metadata": {},
   "outputs": [],
   "source": [
    "digitizer = stg.voltage.RealQuantizer(target_fwhm=32,\n",
    "                                      num_bits=8)\n",
    "\n",
    "filterbank = stg.voltage.PolyphaseFilterbank(num_taps=num_taps, \n",
    "                                             num_branches=num_branches)\n",
    "\n",
    "requantizer = stg.voltage.ComplexQuantizer(target_fwhm=32,\n",
    "                                           num_bits=8)\n",
    "\n",
    "rvb = stg.voltage.RawVoltageBackend(antenna,\n",
    "                                    digitizer=digitizer,\n",
    "                                    filterbank=filterbank,\n",
    "                                    requantizer=requantizer,\n",
    "                                    start_chan=0,\n",
    "                                    num_chans=64,\n",
    "                                    block_size=134217728,\n",
    "                                    blocks_per_file=128,\n",
    "                                    num_subblocks=32)"
   ]
  },
  {
   "cell_type": "markdown",
   "metadata": {},
   "source": [
    "## Recording synthetic data\n",
    "Now that we have all the pieces of the backend created, we can now create GUPPI RAW files using `RawVoltageBackend.record()`. There are two modes to record, `num_blocks` and `obs_length`. The former allows you to specify how many data blocks to record, as defined by the RAW format, and the latter computes the number of required blocks from the desired observation length (in seconds). The `header_dict` parameter allows for overwriting existing header values / adding additional keywords. For example, TurboSETI requires the `TELESCOP` parameter to be set to \"GBT\" to run on certain types of RAW files, so you can overwrite this parameter using `header_dict`.\n",
    "\n",
    "`raw_file_stem` is the path + prefix for your saved GUPPI RAW file."
   ]
  },
  {
   "cell_type": "code",
   "execution_count": null,
   "metadata": {},
   "outputs": [],
   "source": [
    "rvb.record(output_file_stem='example_1block',\n",
    "           num_blocks=1, \n",
    "           length_mode='num_blocks',\n",
    "           header_dict={'HELLO': 'test_value',\n",
    "                        'TELESCOP': 'GBT'},\n",
    "           verbose=False)\n",
    "\n",
    "# rvb.record(raw_file_stem='example_obs_length',\n",
    "#            obs_length=0.5, \n",
    "#            length_mode='obs_length',\n",
    "#            header_dict={'HELLO': 'test_value',\n",
    "#                         'TELESCOP': 'GBT'},\n",
    "#            verbose=False)"
   ]
  },
  {
   "cell_type": "markdown",
   "metadata": {},
   "source": [
    "## Taking a look\n",
    "If `rawspec` is installed, you can unpack the data as such:"
   ]
  },
  {
   "cell_type": "code",
   "execution_count": null,
   "metadata": {},
   "outputs": [],
   "source": [
    "!rawspec -f 1024 -t 4 -d . example_1block"
   ]
  },
  {
   "cell_type": "markdown",
   "metadata": {},
   "source": [
    "Using `blimpy` to open the resulting filterbank file and plotting the data:"
   ]
  },
  {
   "cell_type": "code",
   "execution_count": null,
   "metadata": {},
   "outputs": [],
   "source": [
    "wf = bl.Waterfall('example_1block.rawspec.0000.fil',\n",
    "                  f_start=6001.0,\n",
    "                  f_stop=6003.0)\n",
    "\n",
    "plt.figure(figsize=(10, 6))\n",
    "wf.plot_waterfall()\n",
    "plt.show()"
   ]
  },
  {
   "cell_type": "markdown",
   "metadata": {},
   "source": [
    "Integrating over time:"
   ]
  },
  {
   "cell_type": "code",
   "execution_count": null,
   "metadata": {},
   "outputs": [],
   "source": [
    "# Viewing data in dB\n",
    "x = stg.db(np.sum(wf.data[:, 0, :], axis=0))\n",
    "\n",
    "plt.figure(figsize=(8, 6))\n",
    "plt.plot(x)\n",
    "plt.xlabel('Frequency bins')\n",
    "plt.ylabel('Integrated Power (dB)')\n",
    "plt.show()"
   ]
  },
  {
   "cell_type": "code",
   "execution_count": null,
   "metadata": {},
   "outputs": [],
   "source": []
  }
 ],
 "metadata": {
  "kernelspec": {
   "display_name": "Python [conda env:cu11]",
   "language": "python",
   "name": "conda-env-cu11-py"
  },
  "language_info": {
   "codemirror_mode": {
    "name": "ipython",
    "version": 3
   },
   "file_extension": ".py",
   "mimetype": "text/x-python",
   "name": "python",
   "nbconvert_exporter": "python",
   "pygments_lexer": "ipython3",
   "version": "3.9.7"
  }
 },
 "nbformat": 4,
 "nbformat_minor": 4
}
