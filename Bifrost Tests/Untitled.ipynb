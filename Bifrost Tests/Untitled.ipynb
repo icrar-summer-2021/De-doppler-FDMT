{
 "cells": [
  {
   "cell_type": "code",
   "execution_count": null,
   "id": "6f5cab3d-0bb5-4cbd-a6a2-5a3e7f3f1f5f",
   "metadata": {
    "tags": []
   },
   "outputs": [],
   "source": [
    "from copy import deepcopy\n",
    "import numpy as np\n",
    "import bifrost as bf\n",
    "import bifrost.blocks as blocks\n",
    "import bifrost.views as views\n",
    "import bifrost.pipeline as bfp\n",
    "from bifrost.ndarray import copy_array\n",
    "import pylab as plt\n",
    "\n",
    "class CopyBlock(bfp.TransformBlock):#\n",
    "    \"\"\"Copy the input ring to output ring\"\"\"\n",
    "    def __init__(self, iring, space=None, *args, **kwargs):\n",
    "        super(CopyBlock, self).__init__(iring, *args, **kwargs)\n",
    "        if space is None:\n",
    "            space = self.iring.space\n",
    "        self.orings = [self.create_ring(space=space)]\n",
    "    def on_sequence(self, iseq):\n",
    "        ohdr = deepcopy(iseq.header)\n",
    "        return ohdr\n",
    "    def on_data(self, ispan, ospan):\n",
    "        copy_array(ospan.data, ispan.data)#\n",
    "\n",
    "raw_data = blocks.read_wav(['Trial2.wav'], gulp_nframe=4096)\n",
    "\n",
    "gpu_raw_data = CopyBlock(raw_data, space='cuda')#\n",
    "chunked_data = views.split_axis(gpu_raw_data, 'time', 256, label='fine_time')\n",
    "fft_output = blocks.fft(chunked_data, axes='fine_time', axis_labels='freq')\n",
    "squared = blocks.detect(fft_output, mode='scalar')\n",
    "transposed = blocks.transpose(squared, ['time', 'pol', 'freq'])#\n",
    "\n",
    "host_transposed = blocks.copy(transposed, space='cuda_host')\n",
    "quantized = blocks.quantize(host_transposed, 'i8')\n",
    "blocks.write_sigproc(quantized)\n",
    "\n",
    "pipeline = bf.get_default_pipeline()#\n",
    "pipeline.shutdown_on_signals()\n",
    "pipeline.run()#"
   ]
  },
  {
   "cell_type": "code",
   "execution_count": null,
   "id": "aa95b8b0-e6a7-4540-8da4-f4988a95e5a3",
   "metadata": {
    "tags": []
   },
   "outputs": [
    {
     "name": "stdout",
     "output_type": "stream",
     "text": [
      "Help on function detect in module bifrost.blocks.detect:\n",
      "\n",
      "detect(iring, mode, axis=None, *args, **kwargs)\n",
      "    Apply square-law detection to create polarization products.\n",
      "    Args:\n",
      "        iring (Ring or Block): Input data source.\n",
      "        mode (string):\n",
      "           ``'scalar': x   -> real x.x*``\n",
      "           ``'jones':  x,y -> complex x.x* + 1j*y.y*, x.y*``\n",
      "           ``'stokes': x,y -> real I, Q, U, V``\n",
      "           ``'stokes_I': x,y -> x.x* + y.y* (Stokes I)``\n",
      "        axis: Integer or string specifying the polarization axis. Defaults to\n",
      "                'pol'. Not used if mode = 'scalar'.\n",
      "        *args: Arguments to ``bifrost.pipeline.TransformBlock``.\n",
      "        **kwargs: Keyword Arguments to ``bifrost.pipeline.TransformBlock``.\n",
      "    **Tensor semantics**::\n",
      "        Input:  [..., 'pol', ...], dtype = any complex, space = CUDA\n",
      "        Output: [..., 'pol', ...], dtype = real or complex, space = CUDA\n",
      "    Returns:\n",
      "        DetectBlock: A new block instance.\n",
      "\n"
     ]
    }
   ],
   "source": [
    "help(blocks.detect)"
   ]
  },
  {
   "cell_type": "code",
   "execution_count": null,
   "id": "d3a6fcb2-18a5-42a1-b501-1c23f4582e39",
   "metadata": {},
   "outputs": [],
   "source": [
    "from blimpy import waterfall"
   ]
  },
  {
   "cell_type": "code",
   "execution_count": 10,
   "id": "5feab0a6-cc07-4fc0-aed1-6d626f084542",
   "metadata": {},
   "outputs": [],
   "source": [
    "import blimpy as bl\n",
    "\n",
    "fp='Trial2.wav.fil'\n",
    "fil = bl.Waterfall(fp)\n",
    "fil.data = fil.data[:, 0:1, :]"
   ]
  },
  {
   "cell_type": "code",
   "execution_count": null,
   "id": "ac492be8-6eb9-45f6-9c44-aa617a521a98",
   "metadata": {},
   "outputs": [],
   "source": [
    "%matplotlib inline"
   ]
  },
  {
   "cell_type": "code",
   "execution_count": null,
   "id": "4ed3a4a2-d014-4b4d-bdf9-4b01c1628669",
   "metadata": {},
   "outputs": [
    {
     "name": "stderr",
     "output_type": "stream",
     "text": [
      "/home/cho134/.local/lib/python3.9/site-packages/blimpy/utils.py:11: RuntimeWarning: divide by zero encountered in log10\n",
      "  return 10 * np.log10(x + offset)\n"
     ]
    },
    {
     "data": {
      "image/png": "[encoded data removed]",
      "text/plain": [
       "<Figure size 432x288 with 2 Axes>"
      ]
     },
     "metadata": {
      "needs_background": "light"
     },
     "output_type": "display_data"
    }
   ],
   "source": [
    "fil.plot_waterfall()"
   ]
  },
  {
   "cell_type": "code",
   "execution_count": 11,
   "id": "3b210f67-fce0-480b-b7a5-5ee3b2273f8c",
   "metadata": {},
   "outputs": [
    {
     "name": "stderr",
     "output_type": "stream",
     "text": [
      "/tmp/ipykernel_5141/3831591803.py:1: RuntimeWarning: divide by zero encountered in log\n",
      "  plt.imshow(np.log(np.array(fil.data).squeeze()), aspect='auto')\n"
     ]
    },
    {
     "data": {
      "text/plain": [
       "<matplotlib.image.AxesImage at 0x7fc0984845e0>"
      ]
     },
     "execution_count": 11,
     "metadata": {},
     "output_type": "execute_result"
    },
    {
     "data": {
      "image/png": "[encoded data removed]",
      "text/plain": [
       "<Figure size 432x288 with 1 Axes>"
      ]
     },
     "metadata": {
      "needs_background": "light"
     },
     "output_type": "display_data"
    }
   ],
   "source": [
    "plt.imshow(np.log(np.array(fil.data).squeeze()), aspect='auto')"
   ]
  },
  {
   "cell_type": "code",
   "execution_count": null,
   "id": "ffee6b55-f7ba-4816-9c94-29364801b77a",
   "metadata": {},
   "outputs": [],
   "source": []
  }
 ],
 "metadata": {
  "kernelspec": {
   "display_name": "Python [conda env:cu11]",
   "language": "python",
   "name": "conda-env-cu11-py"
  },
  "language_info": {
   "codemirror_mode": {
    "name": "ipython",
    "version": 3
   },
   "file_extension": ".py",
   "mimetype": "text/x-python",
   "name": "python",
   "nbconvert_exporter": "python",
   "pygments_lexer": "ipython3",
   "version": "3.9.7"
  }
 },
 "nbformat": 4,
 "nbformat_minor": 5
}
