{
 "cells": [
  {
   "cell_type": "code",
   "execution_count": 16,
   "id": "aed164df-ff5e-4fdc-9b2b-6a18282e76c8",
   "metadata": {},
   "outputs": [],
   "source": [
    "from bifrost.fdmt import Fdmt\n",
    "import numpy as np\n",
    "import pylab as plt\n",
    "import bifrost as bf\n",
    "\n",
    "from astropy import units as u\n",
    "import setigen as stg\n",
    "import matplotlib.pyplot as plt\n",
    "\n",
    "import hyperseti\n",
    "import cupy as cp\n",
    "import blimpy as bl\n",
    "\n",
    "fdmt = Fdmt()"
   ]
  },
  {
   "cell_type": "code",
   "execution_count": 17,
   "id": "653259c6-bbc1-4d91-8015-2a9e822c9d1e",
   "metadata": {},
   "outputs": [],
   "source": [
    "import blimpy as bl\n",
    "\n",
    "fp = 'guppi_59334_59899_6179049297_ProxCen_S_0001.0002.fil'\n",
    "fil = bl.Waterfall(fp)"
   ]
  },
  {
   "cell_type": "code",
   "execution_count": 19,
   "id": "6e62a048-5e32-433e-9151-023a1ebeed54",
   "metadata": {},
   "outputs": [
    {
     "name": "stdout",
     "output_type": "stream",
     "text": [
      "(1, 64000, 4, 668)\n",
      "(1, 64000, 4, 668) (1, 128, 4)\n",
      "64000 4 128 4\n"
     ]
    },
    {
     "ename": "RuntimeError",
     "evalue": "b'BF_STATUS_INVALID_SHAPE'",
     "output_type": "error",
     "traceback": [
      "\u001b[0;31m---------------------------------------------------------------------------\u001b[0m",
      "\u001b[0;31mRuntimeError\u001b[0m                              Traceback (most recent call last)",
      "\u001b[0;32m/tmp/ipykernel_19388/2268669635.py\u001b[0m in \u001b[0;36m<module>\u001b[0;34m\u001b[0m\n\u001b[1;32m     26\u001b[0m \u001b[0;34m\u001b[0m\u001b[0m\n\u001b[1;32m     27\u001b[0m \u001b[0;31m# Execute FDMT\u001b[0m\u001b[0;34m\u001b[0m\u001b[0;34m\u001b[0m\u001b[0;34m\u001b[0m\u001b[0m\n\u001b[0;32m---> 28\u001b[0;31m \u001b[0mfdmt\u001b[0m\u001b[0;34m.\u001b[0m\u001b[0mexecute\u001b[0m\u001b[0;34m(\u001b[0m\u001b[0md_in\u001b[0m\u001b[0;34m,\u001b[0m \u001b[0md_out\u001b[0m\u001b[0;34m,\u001b[0m \u001b[0mnegative_delays\u001b[0m\u001b[0;34m=\u001b[0m\u001b[0;32mTrue\u001b[0m\u001b[0;34m)\u001b[0m\u001b[0;34m\u001b[0m\u001b[0;34m\u001b[0m\u001b[0m\n\u001b[0m\u001b[1;32m     29\u001b[0m \u001b[0;34m\u001b[0m\u001b[0m\n\u001b[1;32m     30\u001b[0m \u001b[0md_out\u001b[0m \u001b[0;34m=\u001b[0m \u001b[0md_out\u001b[0m\u001b[0;34m.\u001b[0m\u001b[0mcopy\u001b[0m\u001b[0;34m(\u001b[0m\u001b[0mspace\u001b[0m\u001b[0;34m=\u001b[0m\u001b[0;34m'system'\u001b[0m\u001b[0;34m)\u001b[0m\u001b[0;34m\u001b[0m\u001b[0;34m\u001b[0m\u001b[0m\n",
      "\u001b[0;32m/opt/conda/lib/python3.9/site-packages/bifrost/fdmt.py\u001b[0m in \u001b[0;36mexecute\u001b[0;34m(self, idata, odata, negative_delays)\u001b[0m\n\u001b[1;32m     43\u001b[0m         \u001b[0;31m# TODO: Work out how to integrate CUDA stream\u001b[0m\u001b[0;34m\u001b[0m\u001b[0;34m\u001b[0m\u001b[0;34m\u001b[0m\u001b[0m\n\u001b[1;32m     44\u001b[0m         \u001b[0mpsize\u001b[0m \u001b[0;34m=\u001b[0m \u001b[0;32mNone\u001b[0m\u001b[0;34m\u001b[0m\u001b[0;34m\u001b[0m\u001b[0m\n\u001b[0;32m---> 45\u001b[0;31m         _check( _bf.bfFdmtExecute(\n\u001b[0m\u001b[1;32m     46\u001b[0m             \u001b[0mself\u001b[0m\u001b[0;34m.\u001b[0m\u001b[0mobj\u001b[0m\u001b[0;34m,\u001b[0m\u001b[0;34m\u001b[0m\u001b[0;34m\u001b[0m\u001b[0m\n\u001b[1;32m     47\u001b[0m             \u001b[0masarray\u001b[0m\u001b[0;34m(\u001b[0m\u001b[0midata\u001b[0m\u001b[0;34m)\u001b[0m\u001b[0;34m.\u001b[0m\u001b[0mas_BFarray\u001b[0m\u001b[0;34m(\u001b[0m\u001b[0;34m)\u001b[0m\u001b[0;34m,\u001b[0m\u001b[0;34m\u001b[0m\u001b[0;34m\u001b[0m\u001b[0m\n",
      "\u001b[0;32m/opt/conda/lib/python3.9/site-packages/bifrost/libbifrost.py\u001b[0m in \u001b[0;36m_check\u001b[0;34m(status)\u001b[0m\n\u001b[1;32m    116\u001b[0m             \u001b[0;32melse\u001b[0m\u001b[0;34m:\u001b[0m\u001b[0;34m\u001b[0m\u001b[0;34m\u001b[0m\u001b[0m\n\u001b[1;32m    117\u001b[0m                 \u001b[0mstatus_str\u001b[0m \u001b[0;34m=\u001b[0m \u001b[0m_bf\u001b[0m\u001b[0;34m.\u001b[0m\u001b[0mbfGetStatusString\u001b[0m\u001b[0;34m(\u001b[0m\u001b[0mstatus\u001b[0m\u001b[0;34m)\u001b[0m\u001b[0;34m\u001b[0m\u001b[0;34m\u001b[0m\u001b[0m\n\u001b[0;32m--> 118\u001b[0;31m                 \u001b[0;32mraise\u001b[0m \u001b[0mRuntimeError\u001b[0m\u001b[0;34m(\u001b[0m\u001b[0mstatus_str\u001b[0m\u001b[0;34m)\u001b[0m\u001b[0;34m\u001b[0m\u001b[0;34m\u001b[0m\u001b[0m\n\u001b[0m\u001b[1;32m    119\u001b[0m     \u001b[0;32melse\u001b[0m\u001b[0;34m:\u001b[0m\u001b[0;34m\u001b[0m\u001b[0;34m\u001b[0m\u001b[0m\n\u001b[1;32m    120\u001b[0m         \u001b[0;32mif\u001b[0m \u001b[0mstatus\u001b[0m \u001b[0;34m==\u001b[0m \u001b[0m_bf\u001b[0m\u001b[0;34m.\u001b[0m\u001b[0mBF_STATUS_END_OF_DATA\u001b[0m\u001b[0;34m:\u001b[0m\u001b[0;34m\u001b[0m\u001b[0;34m\u001b[0m\u001b[0m\n",
      "\u001b[0;31mRuntimeError\u001b[0m: b'BF_STATUS_INVALID_SHAPE'"
     ]
    }
   ],
   "source": [
    "import numpy as np\n",
    "\n",
    "max_delay = 128\n",
    "gulp_size = 4 * 8192\n",
    "\n",
    "def get_gulp(idx):\n",
    "    d_cpu = np.ascontiguousarray(np.expand_dims(fil.data.squeeze().T, axis=0)[..., idx * gulp_size:(idx+1) * gulp_size])\n",
    "    return d_cpu\n",
    "\n",
    "d_cpu = get_gulp(0)\n",
    "\n",
    "## Initialize FDMT\n",
    "n_disp = max_delay\n",
    "n_time = d_cpu.shape[2]\n",
    "n_chan = d_cpu.shape[1]\n",
    "fdmt.init(n_chan, n_disp, fil.header['fch1'], fil.header['foff'])\n",
    "\n",
    "print(d_cpu.shape)\n",
    "\n",
    "# Input shape is (1, n_freq, n_time)\n",
    "d_in = bf.ndarray(d_cpu, dtype='f32', space='cuda')\n",
    "d_out = bf.ndarray(np.zeros(shape=(1, n_disp, n_time)), dtype='f32', space='cuda')\n",
    "\n",
    "print(d_in.shape, d_out.shape)\n",
    "print(n_chan, n_time, n_disp, n_time)\n",
    "\n",
    "# Execute FDMT\n",
    "fdmt.execute(d_in, d_out, negative_delays=True)\n",
    "\n",
    "d_out = d_out.copy(space='system')"
   ]
  },
  {
   "cell_type": "code",
   "execution_count": null,
   "id": "bda315f7-eed8-4526-a5a8-2b24848794fc",
   "metadata": {},
   "outputs": [],
   "source": []
  }
 ],
 "metadata": {
  "kernelspec": {
   "display_name": "Python 3 (ipykernel)",
   "language": "python",
   "name": "python3"
  },
  "language_info": {
   "codemirror_mode": {
    "name": "ipython",
    "version": 3
   },
   "file_extension": ".py",
   "mimetype": "text/x-python",
   "name": "python",
   "nbconvert_exporter": "python",
   "pygments_lexer": "ipython3",
   "version": "3.9.5"
  }
 },
 "nbformat": 4,
 "nbformat_minor": 5
}
