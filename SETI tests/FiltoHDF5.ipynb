{
 "cells": [
  {
   "cell_type": "code",
   "execution_count": 2,
   "id": "f9c865f7-5623-4a9e-9608-4ab42b878238",
   "metadata": {},
   "outputs": [],
   "source": [
    "import blimpy"
   ]
  },
  {
   "cell_type": "code",
   "execution_count": 18,
   "id": "d16e92d0-c230-470d-b674-814d259d9c9a",
   "metadata": {},
   "outputs": [
    {
     "name": "stdout",
     "output_type": "stream",
     "text": [
      "/home/cho134/.local/lib/python3.9/site-packages/cupy/_environment.py:434: UserWarning: \n",
      "--------------------------------------------------------------------------------\n",
      "\n",
      "  CuPy may not function correctly because multiple CuPy packages are installed\n",
      "  in your environment:\n",
      "\n",
      "    cupy, cupy-cuda110\n",
      "\n",
      "  Follow these steps to resolve this issue:\n",
      "\n",
      "    1. For all packages listed above, run the following command to remove all\n",
      "       existing CuPy installations:\n",
      "\n",
      "         $ pip uninstall <package_name>\n",
      "\n",
      "      If you previously installed CuPy via conda, also run the following:\n",
      "\n",
      "         $ conda uninstall cupy\n",
      "\n",
      "    2. Install the appropriate CuPy package.\n",
      "       Refer to the Installation Guide for detailed instructions.\n",
      "\n",
      "         https://docs.cupy.dev/en/stable/install.html\n",
      "\n",
      "--------------------------------------------------------------------------------\n",
      "\n",
      "  warnings.warn(f'''\n",
      "blimpy.waterfall INFO     Detecting high frequency resolution data.\n",
      "blimpy.waterfall INFO     __write_to_hdf5_heavy: For ./linear_signal.h5, chunk_dim=(1, 1, 1024), blob_dim=(32, 1, 1024), n_blobs=1\n",
      "blimpy.waterfall INFO     __write_to_hdf5_heavy: Processing blob 1 of 1\n",
      "blimpy.waterfall INFO     Conversion time: 0.01sec\n"
     ]
    }
   ],
   "source": [
    "!fil2h5 'linear_signal.fil'"
   ]
  },
  {
   "cell_type": "code",
   "execution_count": null,
   "id": "06cb8f20-4c5c-4a80-bc02-d5b894529f85",
   "metadata": {},
   "outputs": [],
   "source": []
  }
 ],
 "metadata": {
  "kernelspec": {
   "display_name": "Python [conda env:cu11]",
   "language": "python",
   "name": "conda-env-cu11-py"
  },
  "language_info": {
   "codemirror_mode": {
    "name": "ipython",
    "version": 3
   },
   "file_extension": ".py",
   "mimetype": "text/x-python",
   "name": "python",
   "nbconvert_exporter": "python",
   "pygments_lexer": "ipython3",
   "version": "3.9.7"
  }
 },
 "nbformat": 4,
 "nbformat_minor": 5
}
