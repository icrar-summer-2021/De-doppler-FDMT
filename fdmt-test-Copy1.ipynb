{
 "cells": [
  {
   "cell_type": "code",
   "execution_count": 4,
   "id": "12692c08",
   "metadata": {},
   "outputs": [],
   "source": [
    "%matplotlib inline\n"
   ]
  },
  {
   "cell_type": "code",
   "execution_count": 5,
   "id": "a8c01371",
   "metadata": {},
   "outputs": [
    {
     "name": "stderr",
     "output_type": "stream",
     "text": [
      "bshuf filter already loaded, skip it.\n"
     ]
    }
   ],
   "source": [
    "from bifrost.fdmt import Fdmt\n",
    "import numpy as np\n",
    "import pylab as plt\n",
    "import bifrost as bf\n",
    "\n",
    "from astropy import units as u\n",
    "import setigen as stg\n",
    "import matplotlib.pyplot as plt\n",
    "\n",
    "import hyperseti\n",
    "import cupy as cp\n",
    "import blimpy as bl\n",
    "\n",
    "fdmt = Fdmt()"
   ]
  },
  {
   "cell_type": "markdown",
   "id": "680cfdd5",
   "metadata": {},
   "source": [
    "## Generate mock FRBs"
   ]
  },
  {
   "cell_type": "code",
   "execution_count": 6,
   "id": "945dba6d",
   "metadata": {},
   "outputs": [],
   "source": [
    "def gauss2(x, a, x0, fwhm):\n",
    "    \"\"\" Generate gaussian^2 pulse \n",
    "    \n",
    "    Args:\n",
    "        x: time series (np.arange())\n",
    "        a: amplitude of pulse. (total integrated power across pulse)\n",
    "        x0: index of peak value\n",
    "        fwhm: width of signal in samples\n",
    "    \"\"\"\n",
    "    sigma = (fwhm / 2) / np.sqrt(2*np.log(2))\n",
    "    return a / np.sqrt(2*np.pi*sigma**2) * np.exp(-(x-x0)**2 / (2*sigma**2))\n",
    "\n",
    "\n",
    "def generate_frb(frame, frb_params):\n",
    "    \"\"\" Simple FRB generator \n",
    "    \n",
    "    Args:\n",
    "        frame (setigen.Frame): A filterbank frame of data, from setigen\n",
    "        frb_params (dict): A dictionary with FRB parameters in it\n",
    "        \n",
    "    Notes:\n",
    "        frb_params should contain width (in s), desired SNR, start time (in s), and DM\n",
    "    \"\"\"\n",
    "    \n",
    "    frb_width, frb_snr, frb_t0, frb_dm = frb_params['width'], frb_params['snr'], frb_params['t0'], frb_params['dm'], \n",
    "\n",
    "    frb_rms  = frame.get_intensity(snr=frb_snr)\n",
    "    fch1 = frame.get_frequency(0)\n",
    "    \n",
    "    ## Generate pulse delays - array has same length as freqs\n",
    "    width_in_chans = frb_width / frame.dt\n",
    "    t0_in_samps = (frb_t0 / frame.dt) - frame.ts[0]\n",
    "    tdel_in_samps = 4.15e-3 * frb_dm * ((fch1/1e9)**(-2) - (frame.fs/1e9)**(-2)) / frame.dt\n",
    "    t0_in_samps = t0_in_samps + tdel_in_samps \n",
    "    \n",
    "    # Time axis in samples\n",
    "    t = np.arange(frame.tchans)\n",
    "\n",
    "    # Use meshgrid to create (N_time, N_freq) array\n",
    "    t2d, tdel2d = np.meshgrid(t, t0_in_samps)\n",
    "    \n",
    "    # Create pulse profile via 2D time (N_time,1) and time_delay (N_freq, 1) arrays\n",
    "    profile = gauss2(t2d, frb_rms, tdel2d, width_in_chans)\n",
    "    \n",
    "    return profile.T"
   ]
  },
  {
   "cell_type": "markdown",
   "id": "000d115a",
   "metadata": {},
   "source": [
    "### Basic FRB models"
   ]
  },
  {
   "cell_type": "code",
   "execution_count": 7,
   "id": "a01132a1",
   "metadata": {},
   "outputs": [],
   "source": [
    "frame = stg.Frame(fchans=1024*u.pixel,\n",
    "                  tchans=1024*2*u.pixel,\n",
    "                  df=100.0*u.kHz,\n",
    "                  dt=1*u.ms,\n",
    "                  fch1=300*u.MHz)\n",
    "\n",
    "noise = frame.add_noise(x_mean=10, noise_type='chi2')\n",
    "\n",
    "frb_params = {'snr': 10000.0, \n",
    "              't0': 500e-3, \n",
    "              'dm': 3, \n",
    "              'width': 10e-3}\n",
    "p = generate_frb(frame, frb_params)\n",
    "frame.data += p\n",
    "\n",
    "frb_params = {'snr': 10000.0, \n",
    "              't0': 1000e-3, \n",
    "              'dm': 10, \n",
    "              'width': 10e-3}\n",
    "p = generate_frb(frame, frb_params)\n",
    "frame.data += p\n",
    "\n",
    "frame.plot()"
   ]
  },
  {
   "cell_type": "markdown",
   "id": "dc2ffb58",
   "metadata": {},
   "source": [
    "## Initialize FDMT"
   ]
  },
  {
   "cell_type": "code",
   "execution_count": 8,
   "id": "a321168e",
   "metadata": {},
   "outputs": [
    {
     "name": "stdout",
     "output_type": "stream",
     "text": [
      "Help on method init in module bifrost.fdmt:\n",
      "\n",
      "init(nchan, max_delay, f0, df, exponent=-2.0, space='cuda') method of bifrost.fdmt.Fdmt instance\n",
      "\n"
     ]
    }
   ],
   "source": [
    "max_delay = frame.data.shape[0]\n",
    "\n",
    "n_disp = max_delay\n",
    "n_time = frame.data.shape[0]\n",
    "n_chan = frame.data.shape[1]\n",
    "\n",
    "fdmt.init(n_chan, n_disp, frame.fch1 / 1e6, frame.df / 1e6)\n",
    "\n",
    "help(Fdmt().init)\n"
   ]
  },
  {
   "cell_type": "markdown",
   "id": "993429f9",
   "metadata": {},
   "source": [
    "## Run FDMT"
   ]
  },
  {
   "cell_type": "code",
   "execution_count": 9,
   "id": "716f7245",
   "metadata": {},
   "outputs": [
    {
     "name": "stdout",
     "output_type": "stream",
     "text": [
      "(1, 1024, 2048)\n",
      "(1, 1024, 2048) (1, 2048, 2048)\n",
      "1024 2048 2048 2048\n"
     ]
    },
    {
     "name": "stderr",
     "output_type": "stream",
     "text": [
      "/tmp/ipykernel_27525/2974595870.py:17: RuntimeWarning: divide by zero encountered in log\n",
      "  plt.imshow(np.log(np.array(d_out)).squeeze(), aspect='auto')\n"
     ]
    },
    {
     "data": {
      "text/plain": [
       "<matplotlib.colorbar.Colorbar at 0x7fe7ac194c40>"
      ]
     },
     "execution_count": 9,
     "metadata": {},
     "output_type": "execute_result"
    }
   ],
   "source": [
    "d_cpu = np.ascontiguousarray(np.expand_dims(frame.data.astype('float32').T, axis=0))\n",
    "\n",
    "print(d_cpu.shape)\n",
    "\n",
    "# Input shape is (1, n_freq, n_time)\n",
    "d_in = bf.ndarray(d_cpu, dtype='f32', space='cuda')\n",
    "d_out = bf.ndarray(np.zeros(shape=(1, n_disp, n_time)), dtype='f32', space='cuda')\n",
    "\n",
    "print(d_in.shape, d_out.shape)\n",
    "print(n_chan, n_time, n_disp, n_time)\n",
    "\n",
    "fdmt.execute(d_in, d_out, negative_delays=True)\n",
    "\n",
    "d_out = d_out.copy(space='system')\n",
    "\n",
    "plt.figure(figsize=(10, 10))\n",
    "plt.imshow(np.log(np.array(d_out)).squeeze(), aspect='auto')\n",
    "\n",
    "\n",
    "ymax, xmax = np.unravel_index(np.argmax(d_out), (n_disp, n_time))\n",
    "plt.scatter(xmax, ymax, marker='x', color='#cc0000')\n",
    "\n",
    "plt.xlabel(\"Time\")\n",
    "plt.ylabel(\"Dispersion trial\")\n",
    "plt.colorbar()"
   ]
  },
  {
   "cell_type": "markdown",
   "id": "ee4eda76",
   "metadata": {},
   "source": [
    "## Find maxima in output"
   ]
  },
  {
   "cell_type": "code",
   "execution_count": 7,
   "id": "254e6b53",
   "metadata": {},
   "outputs": [],
   "source": [
    "img = cp.asarray(d_out.squeeze())\n",
    "peaks, xvals, yvals = hyperseti.peak.prominent_peaks(img, num_peaks=3, min_xdistance=100, min_ydistance=100, threshold=10000)\n",
    "xvals = cp.asnumpy(xvals)\n",
    "yvals = cp.asnumpy(yvals)"
   ]
  },
  {
   "cell_type": "code",
   "execution_count": 8,
   "id": "fa19a41d",
   "metadata": {},
   "outputs": [
    {
     "name": "stderr",
     "output_type": "stream",
     "text": [
      "/tmp/ipykernel_31284/3595156715.py:2: RuntimeWarning: divide by zero encountered in log\n",
      "  plt.imshow(np.log(np.array(d_out)).squeeze(), aspect='auto')\n"
     ]
    },
    {
     "data": {
      "text/plain": [
       "<matplotlib.collections.PathCollection at 0x7f92d1aec9d0>"
      ]
     },
     "execution_count": 8,
     "metadata": {},
     "output_type": "execute_result"
    }
   ],
   "source": [
    "plt.figure(figsize=(10, 10))\n",
    "plt.imshow(np.log(np.array(d_out)).squeeze(), aspect='auto')\n",
    "plt.scatter(xvals, yvals, marker='x', color='#cc0000')"
   ]
  },
  {
   "cell_type": "code",
   "execution_count": 8,
   "id": "c362d876",
   "metadata": {},
   "outputs": [
    {
     "name": "stderr",
     "output_type": "stream",
     "text": [
      "/tmp/ipykernel_1494/3331985393.py:2: RuntimeWarning: divide by zero encountered in log\n",
      "  plt.imshow(np.log(np.array(d_out)).squeeze(), aspect='auto')\n"
     ]
    },
    {
     "ename": "NameError",
     "evalue": "name 'xvals' is not defined",
     "output_type": "error",
     "traceback": [
      "\u001b[0;31m---------------------------------------------------------------------------\u001b[0m",
      "\u001b[0;31mNameError\u001b[0m                                 Traceback (most recent call last)",
      "\u001b[0;32m/tmp/ipykernel_1494/3331985393.py\u001b[0m in \u001b[0;36m<module>\u001b[0;34m\u001b[0m\n\u001b[1;32m      1\u001b[0m \u001b[0mplt\u001b[0m\u001b[0;34m.\u001b[0m\u001b[0mfigure\u001b[0m\u001b[0;34m(\u001b[0m\u001b[0mfigsize\u001b[0m\u001b[0;34m=\u001b[0m\u001b[0;34m(\u001b[0m\u001b[0;36m5\u001b[0m\u001b[0;34m,\u001b[0m \u001b[0;36m5\u001b[0m\u001b[0;34m)\u001b[0m\u001b[0;34m)\u001b[0m\u001b[0;34m\u001b[0m\u001b[0;34m\u001b[0m\u001b[0m\n\u001b[1;32m      2\u001b[0m \u001b[0mplt\u001b[0m\u001b[0;34m.\u001b[0m\u001b[0mimshow\u001b[0m\u001b[0;34m(\u001b[0m\u001b[0mnp\u001b[0m\u001b[0;34m.\u001b[0m\u001b[0mlog\u001b[0m\u001b[0;34m(\u001b[0m\u001b[0mnp\u001b[0m\u001b[0;34m.\u001b[0m\u001b[0marray\u001b[0m\u001b[0;34m(\u001b[0m\u001b[0md_out\u001b[0m\u001b[0;34m)\u001b[0m\u001b[0;34m)\u001b[0m\u001b[0;34m.\u001b[0m\u001b[0msqueeze\u001b[0m\u001b[0;34m(\u001b[0m\u001b[0;34m)\u001b[0m\u001b[0;34m,\u001b[0m \u001b[0maspect\u001b[0m\u001b[0;34m=\u001b[0m\u001b[0;34m'auto'\u001b[0m\u001b[0;34m)\u001b[0m\u001b[0;34m\u001b[0m\u001b[0;34m\u001b[0m\u001b[0m\n\u001b[0;32m----> 3\u001b[0;31m \u001b[0mplt\u001b[0m\u001b[0;34m.\u001b[0m\u001b[0mscatter\u001b[0m\u001b[0;34m(\u001b[0m\u001b[0mxvals\u001b[0m\u001b[0;34m[\u001b[0m\u001b[0;36m0\u001b[0m\u001b[0;34m]\u001b[0m\u001b[0;34m,\u001b[0m \u001b[0myvals\u001b[0m\u001b[0;34m[\u001b[0m\u001b[0;36m0\u001b[0m\u001b[0;34m]\u001b[0m\u001b[0;34m,\u001b[0m \u001b[0mmarker\u001b[0m\u001b[0;34m=\u001b[0m\u001b[0;34m'x'\u001b[0m\u001b[0;34m,\u001b[0m \u001b[0mc\u001b[0m\u001b[0;34m=\u001b[0m\u001b[0;34m'#cc0000'\u001b[0m\u001b[0;34m)\u001b[0m\u001b[0;34m\u001b[0m\u001b[0;34m\u001b[0m\u001b[0m\n\u001b[0m\u001b[1;32m      4\u001b[0m \u001b[0mplt\u001b[0m\u001b[0;34m.\u001b[0m\u001b[0mxlim\u001b[0m\u001b[0;34m(\u001b[0m\u001b[0mxvals\u001b[0m\u001b[0;34m[\u001b[0m\u001b[0;36m0\u001b[0m\u001b[0;34m]\u001b[0m \u001b[0;34m-\u001b[0m \u001b[0;36m100\u001b[0m\u001b[0;34m,\u001b[0m \u001b[0mxvals\u001b[0m\u001b[0;34m[\u001b[0m\u001b[0;36m0\u001b[0m\u001b[0;34m]\u001b[0m \u001b[0;34m+\u001b[0m \u001b[0;36m100\u001b[0m\u001b[0;34m)\u001b[0m\u001b[0;34m\u001b[0m\u001b[0;34m\u001b[0m\u001b[0m\n\u001b[1;32m      5\u001b[0m \u001b[0mplt\u001b[0m\u001b[0;34m.\u001b[0m\u001b[0mylim\u001b[0m\u001b[0;34m(\u001b[0m\u001b[0myvals\u001b[0m\u001b[0;34m[\u001b[0m\u001b[0;36m0\u001b[0m\u001b[0;34m]\u001b[0m \u001b[0;34m-\u001b[0m \u001b[0;36m100\u001b[0m\u001b[0;34m,\u001b[0m \u001b[0myvals\u001b[0m\u001b[0;34m[\u001b[0m\u001b[0;36m0\u001b[0m\u001b[0;34m]\u001b[0m \u001b[0;34m+\u001b[0m \u001b[0;36m100\u001b[0m\u001b[0;34m)\u001b[0m\u001b[0;34m\u001b[0m\u001b[0;34m\u001b[0m\u001b[0m\n",
      "\u001b[0;31mNameError\u001b[0m: name 'xvals' is not defined"
     ]
    }
   ],
   "source": [
    "plt.figure(figsize=(5, 5))\n",
    "plt.imshow(np.log(np.array(d_out)).squeeze(), aspect='auto')\n",
    "plt.scatter(xvals[0], yvals[0], marker='x', c='#cc0000')\n",
    "plt.xlim(xvals[0] - 100, xvals[0] + 100)\n",
    "plt.ylim(yvals[0] - 100, yvals[0] + 100)\n",
    "\n",
    "plt.figure(figsize=(5, 5))\n",
    "plt.imshow(np.log(np.array(d_out)).squeeze(), aspect='auto')\n",
    "plt.scatter(xvals[1], yvals[1], marker='x', c='#cc0000')\n",
    "plt.xlim(xvals[1] - 100, xvals[1] + 100)\n",
    "plt.ylim(yvals[1] - 100, yvals[1] + 100)"
   ]
  },
  {
   "cell_type": "markdown",
   "id": "de4e2a6f",
   "metadata": {},
   "source": [
    "## Filterbank data"
   ]
  },
  {
   "cell_type": "code",
   "execution_count": 25,
   "id": "ec15d651",
   "metadata": {},
   "outputs": [
    {
     "ename": "KeyError",
     "evalue": "'signed'",
     "output_type": "error",
     "traceback": [
      "\u001b[0;31m---------------------------------------------------------------------------\u001b[0m",
      "\u001b[0;31mKeyError\u001b[0m                                  Traceback (most recent call last)",
      "\u001b[0;32m/tmp/ipykernel_19973/177277001.py\u001b[0m in \u001b[0;36m<module>\u001b[0;34m\u001b[0m\n\u001b[1;32m      2\u001b[0m \u001b[0;34m\u001b[0m\u001b[0m\n\u001b[1;32m      3\u001b[0m \u001b[0mfp\u001b[0m \u001b[0;34m=\u001b[0m \u001b[0;34m'i_00000.fil'\u001b[0m\u001b[0;34m\u001b[0m\u001b[0;34m\u001b[0m\u001b[0m\n\u001b[0;32m----> 4\u001b[0;31m \u001b[0mfil\u001b[0m \u001b[0;34m=\u001b[0m \u001b[0mbl\u001b[0m\u001b[0;34m.\u001b[0m\u001b[0mWaterfall\u001b[0m\u001b[0;34m(\u001b[0m\u001b[0mfp\u001b[0m\u001b[0;34m)\u001b[0m\u001b[0;34m\u001b[0m\u001b[0;34m\u001b[0m\u001b[0m\n\u001b[0m",
      "\u001b[0;32m/opt/conda/lib/python3.9/site-packages/blimpy/waterfall.py\u001b[0m in \u001b[0;36m__init__\u001b[0;34m(self, filename, f_start, f_stop, t_start, t_stop, load_data, max_load, header_dict, data_array)\u001b[0m\n\u001b[1;32m     86\u001b[0m             \u001b[0mself\u001b[0m\u001b[0;34m.\u001b[0m\u001b[0mfilename\u001b[0m \u001b[0;34m=\u001b[0m \u001b[0mfilename\u001b[0m\u001b[0;34m\u001b[0m\u001b[0;34m\u001b[0m\u001b[0m\n\u001b[1;32m     87\u001b[0m             \u001b[0mself\u001b[0m\u001b[0;34m.\u001b[0m\u001b[0mext\u001b[0m \u001b[0;34m=\u001b[0m \u001b[0mos\u001b[0m\u001b[0;34m.\u001b[0m\u001b[0mpath\u001b[0m\u001b[0;34m.\u001b[0m\u001b[0msplitext\u001b[0m\u001b[0;34m(\u001b[0m\u001b[0mfilename\u001b[0m\u001b[0;34m)\u001b[0m\u001b[0;34m[\u001b[0m\u001b[0;34m-\u001b[0m\u001b[0;36m1\u001b[0m\u001b[0;34m]\u001b[0m\u001b[0;34m.\u001b[0m\u001b[0mlower\u001b[0m\u001b[0;34m(\u001b[0m\u001b[0;34m)\u001b[0m\u001b[0;34m\u001b[0m\u001b[0;34m\u001b[0m\u001b[0m\n\u001b[0;32m---> 88\u001b[0;31m             self.container = fw.open_file(filename, f_start=f_start, f_stop=f_stop, t_start=t_start, t_stop=t_stop,\n\u001b[0m\u001b[1;32m     89\u001b[0m                                           load_data=load_data, max_load=max_load)\n\u001b[1;32m     90\u001b[0m             \u001b[0mself\u001b[0m\u001b[0;34m.\u001b[0m\u001b[0mfile_header\u001b[0m \u001b[0;34m=\u001b[0m \u001b[0mself\u001b[0m\u001b[0;34m.\u001b[0m\u001b[0mcontainer\u001b[0m\u001b[0;34m.\u001b[0m\u001b[0mheader\u001b[0m\u001b[0;34m\u001b[0m\u001b[0;34m\u001b[0m\u001b[0m\n",
      "\u001b[0;32m/opt/conda/lib/python3.9/site-packages/blimpy/io/file_wrapper.py\u001b[0m in \u001b[0;36mopen_file\u001b[0;34m(filename, f_start, f_stop, t_start, t_stop, load_data, max_load)\u001b[0m\n\u001b[1;32m     48\u001b[0m     \u001b[0;32mif\u001b[0m \u001b[0mblimpy\u001b[0m\u001b[0;34m.\u001b[0m\u001b[0mio\u001b[0m\u001b[0;34m.\u001b[0m\u001b[0msigproc\u001b[0m\u001b[0;34m.\u001b[0m\u001b[0mis_filterbank\u001b[0m\u001b[0;34m(\u001b[0m\u001b[0mfilename\u001b[0m\u001b[0;34m)\u001b[0m\u001b[0;34m:\u001b[0m\u001b[0;34m\u001b[0m\u001b[0;34m\u001b[0m\u001b[0m\n\u001b[1;32m     49\u001b[0m         \u001b[0;31m# Open FIL file\u001b[0m\u001b[0;34m\u001b[0m\u001b[0;34m\u001b[0m\u001b[0;34m\u001b[0m\u001b[0m\n\u001b[0;32m---> 50\u001b[0;31m         \u001b[0;32mreturn\u001b[0m \u001b[0mFilReader\u001b[0m\u001b[0;34m(\u001b[0m\u001b[0mfilename\u001b[0m\u001b[0;34m,\u001b[0m \u001b[0mf_start\u001b[0m\u001b[0;34m=\u001b[0m\u001b[0mf_start\u001b[0m\u001b[0;34m,\u001b[0m \u001b[0mf_stop\u001b[0m\u001b[0;34m=\u001b[0m\u001b[0mf_stop\u001b[0m\u001b[0;34m,\u001b[0m \u001b[0mt_start\u001b[0m\u001b[0;34m=\u001b[0m\u001b[0mt_start\u001b[0m\u001b[0;34m,\u001b[0m \u001b[0mt_stop\u001b[0m\u001b[0;34m=\u001b[0m\u001b[0mt_stop\u001b[0m\u001b[0;34m,\u001b[0m \u001b[0mload_data\u001b[0m\u001b[0;34m=\u001b[0m\u001b[0mload_data\u001b[0m\u001b[0;34m,\u001b[0m \u001b[0mmax_load\u001b[0m\u001b[0;34m=\u001b[0m\u001b[0mmax_load\u001b[0m\u001b[0;34m)\u001b[0m\u001b[0;34m\u001b[0m\u001b[0;34m\u001b[0m\u001b[0m\n\u001b[0m\u001b[1;32m     51\u001b[0m     \u001b[0;32mraise\u001b[0m \u001b[0mNotImplementedError\u001b[0m\u001b[0;34m(\u001b[0m\u001b[0;34m'Cannot open this type of file with Waterfall: {}'\u001b[0m\u001b[0;34m.\u001b[0m\u001b[0mformat\u001b[0m\u001b[0;34m(\u001b[0m\u001b[0mfilename\u001b[0m\u001b[0;34m)\u001b[0m\u001b[0;34m)\u001b[0m\u001b[0;34m\u001b[0m\u001b[0;34m\u001b[0m\u001b[0m\n",
      "\u001b[0;32m/opt/conda/lib/python3.9/site-packages/blimpy/io/fil_reader.py\u001b[0m in \u001b[0;36m__init__\u001b[0;34m(self, filename, f_start, f_stop, t_start, t_stop, load_data, max_load)\u001b[0m\n\u001b[1;32m     31\u001b[0m             \u001b[0mself\u001b[0m\u001b[0;34m.\u001b[0m\u001b[0mfilename\u001b[0m \u001b[0;34m=\u001b[0m \u001b[0mfilename\u001b[0m\u001b[0;34m\u001b[0m\u001b[0;34m\u001b[0m\u001b[0m\n\u001b[1;32m     32\u001b[0m             \u001b[0mself\u001b[0m\u001b[0;34m.\u001b[0m\u001b[0mload_data\u001b[0m \u001b[0;34m=\u001b[0m \u001b[0mload_data\u001b[0m\u001b[0;34m\u001b[0m\u001b[0;34m\u001b[0m\u001b[0m\n\u001b[0;32m---> 33\u001b[0;31m             \u001b[0mself\u001b[0m\u001b[0;34m.\u001b[0m\u001b[0mheader\u001b[0m \u001b[0;34m=\u001b[0m \u001b[0mself\u001b[0m\u001b[0;34m.\u001b[0m\u001b[0mread_header\u001b[0m\u001b[0;34m(\u001b[0m\u001b[0;34m)\u001b[0m\u001b[0;34m\u001b[0m\u001b[0;34m\u001b[0m\u001b[0m\n\u001b[0m\u001b[1;32m     34\u001b[0m             \u001b[0mself\u001b[0m\u001b[0;34m.\u001b[0m\u001b[0mfile_size_bytes\u001b[0m \u001b[0;34m=\u001b[0m \u001b[0mos\u001b[0m\u001b[0;34m.\u001b[0m\u001b[0mpath\u001b[0m\u001b[0;34m.\u001b[0m\u001b[0mgetsize\u001b[0m\u001b[0;34m(\u001b[0m\u001b[0mself\u001b[0m\u001b[0;34m.\u001b[0m\u001b[0mfilename\u001b[0m\u001b[0;34m)\u001b[0m\u001b[0;34m\u001b[0m\u001b[0;34m\u001b[0m\u001b[0m\n\u001b[1;32m     35\u001b[0m             \u001b[0mself\u001b[0m\u001b[0;34m.\u001b[0m\u001b[0midx_data\u001b[0m \u001b[0;34m=\u001b[0m \u001b[0msigproc\u001b[0m\u001b[0;34m.\u001b[0m\u001b[0mlen_header\u001b[0m\u001b[0;34m(\u001b[0m\u001b[0mself\u001b[0m\u001b[0;34m.\u001b[0m\u001b[0mfilename\u001b[0m\u001b[0;34m)\u001b[0m\u001b[0;34m\u001b[0m\u001b[0;34m\u001b[0m\u001b[0m\n",
      "\u001b[0;32m/opt/conda/lib/python3.9/site-packages/blimpy/io/fil_reader.py\u001b[0m in \u001b[0;36mread_header\u001b[0;34m(self, return_idxs)\u001b[0m\n\u001b[1;32m    115\u001b[0m \u001b[0;34m\u001b[0m\u001b[0m\n\u001b[1;32m    116\u001b[0m         \"\"\"\n\u001b[0;32m--> 117\u001b[0;31m         \u001b[0mself\u001b[0m\u001b[0;34m.\u001b[0m\u001b[0mheader\u001b[0m \u001b[0;34m=\u001b[0m \u001b[0msigproc\u001b[0m\u001b[0;34m.\u001b[0m\u001b[0mread_header\u001b[0m\u001b[0;34m(\u001b[0m\u001b[0mself\u001b[0m\u001b[0;34m.\u001b[0m\u001b[0mfilename\u001b[0m\u001b[0;34m,\u001b[0m \u001b[0mreturn_idxs\u001b[0m\u001b[0;34m=\u001b[0m\u001b[0mreturn_idxs\u001b[0m\u001b[0;34m)\u001b[0m\u001b[0;34m\u001b[0m\u001b[0;34m\u001b[0m\u001b[0m\n\u001b[0m\u001b[1;32m    118\u001b[0m         \u001b[0;32mreturn\u001b[0m \u001b[0mself\u001b[0m\u001b[0;34m.\u001b[0m\u001b[0mheader\u001b[0m\u001b[0;34m\u001b[0m\u001b[0;34m\u001b[0m\u001b[0m\n\u001b[1;32m    119\u001b[0m \u001b[0;34m\u001b[0m\u001b[0m\n",
      "\u001b[0;32m/opt/conda/lib/python3.9/site-packages/blimpy/io/sigproc.py\u001b[0m in \u001b[0;36mread_header\u001b[0;34m(filename, return_idxs)\u001b[0m\n\u001b[1;32m    172\u001b[0m \u001b[0;34m\u001b[0m\u001b[0m\n\u001b[1;32m    173\u001b[0m         \u001b[0;32mwhile\u001b[0m \u001b[0;32mTrue\u001b[0m\u001b[0;34m:\u001b[0m\u001b[0;34m\u001b[0m\u001b[0;34m\u001b[0m\u001b[0m\n\u001b[0;32m--> 174\u001b[0;31m             \u001b[0mkeyword\u001b[0m\u001b[0;34m,\u001b[0m \u001b[0mvalue\u001b[0m\u001b[0;34m,\u001b[0m \u001b[0midx\u001b[0m \u001b[0;34m=\u001b[0m \u001b[0mread_next_header_keyword\u001b[0m\u001b[0;34m(\u001b[0m\u001b[0mfh\u001b[0m\u001b[0;34m)\u001b[0m\u001b[0;34m\u001b[0m\u001b[0;34m\u001b[0m\u001b[0m\n\u001b[0m\u001b[1;32m    175\u001b[0m             \u001b[0;32mif\u001b[0m \u001b[0mkeyword\u001b[0m \u001b[0;34m==\u001b[0m \u001b[0;34m'HEADER_END'\u001b[0m\u001b[0;34m:\u001b[0m\u001b[0;34m\u001b[0m\u001b[0;34m\u001b[0m\u001b[0m\n\u001b[1;32m    176\u001b[0m                 \u001b[0;32mbreak\u001b[0m\u001b[0;34m\u001b[0m\u001b[0;34m\u001b[0m\u001b[0m\n",
      "\u001b[0;32m/opt/conda/lib/python3.9/site-packages/blimpy/io/sigproc.py\u001b[0m in \u001b[0;36mread_next_header_keyword\u001b[0;34m(fh)\u001b[0m\n\u001b[1;32m    110\u001b[0m     \u001b[0;32mif\u001b[0m \u001b[0mkeyword\u001b[0m \u001b[0;32min\u001b[0m \u001b[0;34m(\u001b[0m\u001b[0;34m'HEADER_START'\u001b[0m\u001b[0;34m,\u001b[0m \u001b[0;34m'HEADER_END'\u001b[0m\u001b[0;34m)\u001b[0m\u001b[0;34m:\u001b[0m\u001b[0;34m\u001b[0m\u001b[0;34m\u001b[0m\u001b[0m\n\u001b[1;32m    111\u001b[0m         \u001b[0;32mreturn\u001b[0m \u001b[0mkeyword\u001b[0m\u001b[0;34m,\u001b[0m \u001b[0;36m0\u001b[0m\u001b[0;34m,\u001b[0m \u001b[0mfh\u001b[0m\u001b[0;34m.\u001b[0m\u001b[0mtell\u001b[0m\u001b[0;34m(\u001b[0m\u001b[0;34m)\u001b[0m\u001b[0;34m\u001b[0m\u001b[0;34m\u001b[0m\u001b[0m\n\u001b[0;32m--> 112\u001b[0;31m     \u001b[0mdtype\u001b[0m \u001b[0;34m=\u001b[0m \u001b[0mheader_keyword_types\u001b[0m\u001b[0;34m[\u001b[0m\u001b[0mkeyword\u001b[0m\u001b[0;34m]\u001b[0m\u001b[0;34m\u001b[0m\u001b[0;34m\u001b[0m\u001b[0m\n\u001b[0m\u001b[1;32m    113\u001b[0m     \u001b[0midx\u001b[0m \u001b[0;34m=\u001b[0m \u001b[0mfh\u001b[0m\u001b[0;34m.\u001b[0m\u001b[0mtell\u001b[0m\u001b[0;34m(\u001b[0m\u001b[0;34m)\u001b[0m\u001b[0;34m\u001b[0m\u001b[0;34m\u001b[0m\u001b[0m\n\u001b[1;32m    114\u001b[0m     \u001b[0;32mif\u001b[0m \u001b[0mdtype\u001b[0m \u001b[0;34m==\u001b[0m \u001b[0;34m'<l'\u001b[0m\u001b[0;34m:\u001b[0m\u001b[0;34m\u001b[0m\u001b[0;34m\u001b[0m\u001b[0m\n",
      "\u001b[0;31mKeyError\u001b[0m: 'signed'"
     ]
    }
   ],
   "source": [
    "import blimpy as bl\n",
    "\n",
    "fp = 'i_00000.fil'\n",
    "fil = bl.Waterfall(fp)"
   ]
  },
  {
   "cell_type": "code",
   "execution_count": 30,
   "id": "bcb86592",
   "metadata": {},
   "outputs": [
    {
     "ename": "NameError",
     "evalue": "name 'fil' is not defined",
     "output_type": "error",
     "traceback": [
      "\u001b[0;31m---------------------------------------------------------------------------\u001b[0m",
      "\u001b[0;31mNameError\u001b[0m                                 Traceback (most recent call last)",
      "\u001b[0;32m/tmp/ipykernel_19973/2659165086.py\u001b[0m in \u001b[0;36m<module>\u001b[0;34m\u001b[0m\n\u001b[1;32m      6\u001b[0m     \u001b[0;32mreturn\u001b[0m \u001b[0md_cpu\u001b[0m\u001b[0;34m\u001b[0m\u001b[0;34m\u001b[0m\u001b[0m\n\u001b[1;32m      7\u001b[0m \u001b[0;34m\u001b[0m\u001b[0m\n\u001b[0;32m----> 8\u001b[0;31m \u001b[0md_cpu\u001b[0m \u001b[0;34m=\u001b[0m \u001b[0mget_gulp\u001b[0m\u001b[0;34m(\u001b[0m\u001b[0;36m12\u001b[0m\u001b[0;34m)\u001b[0m\u001b[0;34m\u001b[0m\u001b[0;34m\u001b[0m\u001b[0m\n\u001b[0m\u001b[1;32m      9\u001b[0m \u001b[0;34m\u001b[0m\u001b[0m\n\u001b[1;32m     10\u001b[0m \u001b[0;31m## Initialize FDMT\u001b[0m\u001b[0;34m\u001b[0m\u001b[0;34m\u001b[0m\u001b[0;34m\u001b[0m\u001b[0m\n",
      "\u001b[0;32m/tmp/ipykernel_19973/2659165086.py\u001b[0m in \u001b[0;36mget_gulp\u001b[0;34m(idx)\u001b[0m\n\u001b[1;32m      3\u001b[0m \u001b[0;34m\u001b[0m\u001b[0m\n\u001b[1;32m      4\u001b[0m \u001b[0;32mdef\u001b[0m \u001b[0mget_gulp\u001b[0m\u001b[0;34m(\u001b[0m\u001b[0midx\u001b[0m\u001b[0;34m)\u001b[0m\u001b[0;34m:\u001b[0m\u001b[0;34m\u001b[0m\u001b[0;34m\u001b[0m\u001b[0m\n\u001b[0;32m----> 5\u001b[0;31m     \u001b[0md_cpu\u001b[0m \u001b[0;34m=\u001b[0m \u001b[0mnp\u001b[0m\u001b[0;34m.\u001b[0m\u001b[0mascontiguousarray\u001b[0m\u001b[0;34m(\u001b[0m\u001b[0mnp\u001b[0m\u001b[0;34m.\u001b[0m\u001b[0mexpand_dims\u001b[0m\u001b[0;34m(\u001b[0m\u001b[0mfil\u001b[0m\u001b[0;34m.\u001b[0m\u001b[0mdata\u001b[0m\u001b[0;34m.\u001b[0m\u001b[0msqueeze\u001b[0m\u001b[0;34m(\u001b[0m\u001b[0;34m)\u001b[0m\u001b[0;34m.\u001b[0m\u001b[0mT\u001b[0m\u001b[0;34m,\u001b[0m \u001b[0maxis\u001b[0m\u001b[0;34m=\u001b[0m\u001b[0;36m0\u001b[0m\u001b[0;34m)\u001b[0m\u001b[0;34m[\u001b[0m\u001b[0;34m...\u001b[0m\u001b[0;34m,\u001b[0m \u001b[0midx\u001b[0m \u001b[0;34m*\u001b[0m \u001b[0mgulp_size\u001b[0m\u001b[0;34m:\u001b[0m\u001b[0;34m(\u001b[0m\u001b[0midx\u001b[0m\u001b[0;34m+\u001b[0m\u001b[0;36m1\u001b[0m\u001b[0;34m)\u001b[0m \u001b[0;34m*\u001b[0m \u001b[0mgulp_size\u001b[0m\u001b[0;34m]\u001b[0m\u001b[0;34m)\u001b[0m\u001b[0;34m\u001b[0m\u001b[0;34m\u001b[0m\u001b[0m\n\u001b[0m\u001b[1;32m      6\u001b[0m     \u001b[0;32mreturn\u001b[0m \u001b[0md_cpu\u001b[0m\u001b[0;34m\u001b[0m\u001b[0;34m\u001b[0m\u001b[0m\n\u001b[1;32m      7\u001b[0m \u001b[0;34m\u001b[0m\u001b[0m\n",
      "\u001b[0;31mNameError\u001b[0m: name 'fil' is not defined"
     ]
    }
   ],
   "source": [
    "max_delay = 128\n",
    "gulp_size = 4 * 8192\n",
    "\n",
    "def get_gulp(idx):\n",
    "    d_cpu = np.ascontiguousarray(np.expand_dims(fil.data.squeeze().T, axis=0)[..., idx * gulp_size:(idx+1) * gulp_size])\n",
    "    return d_cpu\n",
    "\n",
    "d_cpu = get_gulp(12)\n",
    "\n",
    "## Initialize FDMT\n",
    "n_disp = max_delay\n",
    "n_time = d_cpu.shape[2]\n",
    "n_chan = d_cpu.shape[1]\n",
    "fdmt.init(n_chan, n_disp, fil.header['fch1'], fil.header['foff'])\n",
    "\n",
    "print(d_cpu.shape)\n",
    "\n",
    "# Input shape is (1, n_freq, n_time)\n",
    "d_in = bf.ndarray(d_cpu, dtype='f32', space='cuda')\n",
    "d_out = bf.ndarray(np.zeros(shape=(1, n_disp, n_time)), dtype='f32', space='cuda')\n",
    "\n",
    "print(d_in.shape, d_out.shape)\n",
    "print(n_chan, n_time, n_disp, n_time)\n",
    "\n",
    "# Execute FDMT\n",
    "fdmt.execute(d_in, d_out, negative_delays=True)\n",
    "\n",
    "d_out = d_out.copy(space='system')"
   ]
  },
  {
   "cell_type": "markdown",
   "id": "7bc2351d-d6a1-4f17-b82e-74bdc330486f",
   "metadata": {},
   "source": [
    "# plt.figure(figsize=(10, 6))\n",
    "plt.imshow(np.log(np.array(d_out)).squeeze(), aspect='auto')\n",
    "\n",
    "ymax, xmax = np.unravel_index(np.argmax(d_out), (n_disp, n_time))\n",
    "plt.scatter(xmax, ymax, marker='x', color='#cc0000')\n",
    "\n",
    "plt.xlim(xmax - 256, xmax+256)\n",
    "plt.xlabel(\"Time\")\n",
    "plt.ylabel(\"Dispersion trial\")\n",
    "plt.colorbar()\n",
    "print(DM[ymax])"
   ]
  },
  {
   "cell_type": "code",
   "execution_count": null,
   "id": "99676b96-52fe-4f71-9e97-19fd4a2ac9be",
   "metadata": {},
   "outputs": [],
   "source": []
  },
  {
   "cell_type": "code",
   "execution_count": null,
   "id": "30883c6d-3f2d-4ecc-aaee-ebb339fabbde",
   "metadata": {},
   "outputs": [],
   "source": []
  }
 ],
 "metadata": {
  "kernelspec": {
   "display_name": "Python 3 (ipykernel)",
   "language": "python",
   "name": "python3"
  },
  "language_info": {
   "codemirror_mode": {
    "name": "ipython",
    "version": 3
   },
   "file_extension": ".py",
   "mimetype": "text/x-python",
   "name": "python",
   "nbconvert_exporter": "python",
   "pygments_lexer": "ipython3",
   "version": "3.9.5"
  }
 },
 "nbformat": 4,
 "nbformat_minor": 5
}
